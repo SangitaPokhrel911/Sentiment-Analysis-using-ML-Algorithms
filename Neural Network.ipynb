{
 "cells": [
  {
   "cell_type": "markdown",
   "id": "1cd36749",
   "metadata": {},
   "source": [
    "# Convolutional Neural Network"
   ]
  },
  {
   "cell_type": "code",
   "execution_count": 76,
   "id": "56197ca2",
   "metadata": {},
   "outputs": [],
   "source": [
    "import pandas as pd  \n",
    "import numpy as np\n",
    "import matplotlib.pyplot as plt\n",
    "plt.style.use('fivethirtyeight')\n",
    "\n",
    "%matplotlib inline\n",
    "%config InlineBackend.figure_format = 'retina'"
   ]
  },
  {
   "cell_type": "code",
   "execution_count": 77,
   "id": "91ace15e",
   "metadata": {},
   "outputs": [
    {
     "data": {
      "text/html": [
       "<div>\n",
       "<style scoped>\n",
       "    .dataframe tbody tr th:only-of-type {\n",
       "        vertical-align: middle;\n",
       "    }\n",
       "\n",
       "    .dataframe tbody tr th {\n",
       "        vertical-align: top;\n",
       "    }\n",
       "\n",
       "    .dataframe thead th {\n",
       "        text-align: right;\n",
       "    }\n",
       "</style>\n",
       "<table border=\"1\" class=\"dataframe\">\n",
       "  <thead>\n",
       "    <tr style=\"text-align: right;\">\n",
       "      <th></th>\n",
       "      <th>location</th>\n",
       "      <th>review</th>\n",
       "      <th>sentiment</th>\n",
       "    </tr>\n",
       "    <tr>\n",
       "      <th>ID</th>\n",
       "      <th></th>\n",
       "      <th></th>\n",
       "      <th></th>\n",
       "    </tr>\n",
       "  </thead>\n",
       "  <tbody>\n",
       "    <tr>\n",
       "      <th>1</th>\n",
       "      <td>Syambhunath</td>\n",
       "      <td>It is at the top of valleys mountain.  Best pl...</td>\n",
       "      <td>1</td>\n",
       "    </tr>\n",
       "    <tr>\n",
       "      <th>2</th>\n",
       "      <td>Syambhunath</td>\n",
       "      <td>This place has a significant importance in Bud...</td>\n",
       "      <td>1</td>\n",
       "    </tr>\n",
       "    <tr>\n",
       "      <th>3</th>\n",
       "      <td>Syambhunath</td>\n",
       "      <td>Visited this from the other side on a rainy ev...</td>\n",
       "      <td>1</td>\n",
       "    </tr>\n",
       "    <tr>\n",
       "      <th>4</th>\n",
       "      <td>Syambhunath</td>\n",
       "      <td>A beautiful temple situated in the capital wit...</td>\n",
       "      <td>1</td>\n",
       "    </tr>\n",
       "    <tr>\n",
       "      <th>5</th>\n",
       "      <td>Syambhunath</td>\n",
       "      <td>great, beautiful, historic &amp; religious place.....</td>\n",
       "      <td>1</td>\n",
       "    </tr>\n",
       "  </tbody>\n",
       "</table>\n",
       "</div>"
      ],
      "text/plain": [
       "       location                                             review  sentiment\n",
       "ID                                                                           \n",
       "1   Syambhunath  It is at the top of valleys mountain.  Best pl...          1\n",
       "2   Syambhunath  This place has a significant importance in Bud...          1\n",
       "3   Syambhunath  Visited this from the other side on a rainy ev...          1\n",
       "4   Syambhunath  A beautiful temple situated in the capital wit...          1\n",
       "5   Syambhunath  great, beautiful, historic & religious place.....          1"
      ]
     },
     "execution_count": 77,
     "metadata": {},
     "output_type": "execute_result"
    }
   ],
   "source": [
    "csv = 'touristsentimentpn.csv'\n",
    "my_df = pd.read_csv(csv,index_col=0)\n",
    "my_df.head()"
   ]
  },
  {
   "cell_type": "code",
   "execution_count": 78,
   "id": "76b1e7f3",
   "metadata": {},
   "outputs": [
    {
     "name": "stdout",
     "output_type": "stream",
     "text": [
      "<class 'pandas.core.frame.DataFrame'>\n",
      "RangeIndex: 5401 entries, 0 to 5400\n",
      "Data columns (total 3 columns):\n",
      " #   Column     Non-Null Count  Dtype \n",
      "---  ------     --------------  ----- \n",
      " 0   location   5401 non-null   object\n",
      " 1   review     5401 non-null   object\n",
      " 2   sentiment  5401 non-null   int64 \n",
      "dtypes: int64(1), object(2)\n",
      "memory usage: 126.7+ KB\n"
     ]
    }
   ],
   "source": [
    "my_df.dropna(inplace=True)\n",
    "my_df.reset_index(drop=True,inplace=True)\n",
    "my_df.info()"
   ]
  },
  {
   "cell_type": "code",
   "execution_count": 79,
   "id": "b98f1bda",
   "metadata": {},
   "outputs": [],
   "source": [
    "x = my_df.review\n",
    "y = my_df.sentiment"
   ]
  },
  {
   "cell_type": "code",
   "execution_count": 80,
   "id": "4aa5648f",
   "metadata": {},
   "outputs": [],
   "source": [
    "from sklearn.model_selection import train_test_split\n",
    "\n",
    "SEED = 2000\n",
    "x_train, x_validation_and_test, y_train, y_validation_and_test = train_test_split(x, y, test_size=.02, random_state=SEED)\n",
    "x_validation, x_test, y_validation, y_test = train_test_split(x_validation_and_test, y_validation_and_test, test_size=.5, random_state=SEED)"
   ]
  },
  {
   "cell_type": "code",
   "execution_count": 81,
   "id": "535530eb",
   "metadata": {},
   "outputs": [],
   "source": [
    "from tqdm import tqdm\n",
    "tqdm.pandas(desc=\"progress-bar\")\n",
    "import gensim\n",
    "from gensim.models.word2vec import Word2Vec\n",
    "from gensim.models.doc2vec import TaggedDocument\n",
    "import multiprocessing\n",
    "from sklearn import utils"
   ]
  },
  {
   "cell_type": "code",
   "execution_count": 82,
   "id": "e8b70aee",
   "metadata": {},
   "outputs": [],
   "source": [
    "def labelize_tweets_ug(tweets,label):\n",
    "    result = []\n",
    "    prefix = label\n",
    "    for i, t in zip(tweets.index, tweets):\n",
    "        result.append(TaggedDocument(t.split(), [prefix + '_%s' % i]))\n",
    "    return result"
   ]
  },
  {
   "cell_type": "code",
   "execution_count": 83,
   "id": "7e9369c3",
   "metadata": {},
   "outputs": [],
   "source": [
    "all_x = pd.concat([x_train,x_validation,x_test])\n",
    "all_x_w2v = labelize_tweets_ug(all_x, 'all')"
   ]
  },
  {
   "cell_type": "code",
   "execution_count": 84,
   "id": "052b7530",
   "metadata": {},
   "outputs": [
    {
     "name": "stderr",
     "output_type": "stream",
     "text": [
      "100%|█████████████████████████████████████████████████████████████████████████| 5401/5401 [00:00<00:00, 1192599.94it/s]\n"
     ]
    }
   ],
   "source": [
    "cores = multiprocessing.cpu_count()\n",
    "model_ug_cbow = Word2Vec(sg=0, negative=5, window=2, min_count=2, workers=cores, alpha=0.065, min_alpha=0.065)\n",
    "model_ug_cbow.build_vocab([x.words for x in tqdm(all_x_w2v)])"
   ]
  },
  {
   "cell_type": "code",
   "execution_count": 85,
   "id": "a1e4b026",
   "metadata": {},
   "outputs": [
    {
     "name": "stderr",
     "output_type": "stream",
     "text": [
      "100%|█████████████████████████████████████████████████████████████████████████| 5401/5401 [00:00<00:00, 1542309.09it/s]\n",
      "100%|██████████████████████████████████████████████████████████████████████████████████████| 5401/5401 [00:00<?, ?it/s]\n",
      "100%|█████████████████████████████████████████████████████████████████████████| 5401/5401 [00:00<00:00, 5442920.69it/s]\n",
      "100%|█████████████████████████████████████████████████████████████████████████| 5401/5401 [00:00<00:00, 1821601.47it/s]\n",
      "100%|██████████████████████████████████████████████████████████████████████████████████████| 5401/5401 [00:00<?, ?it/s]\n",
      "100%|██████████████████████████████████████████████████████████████████████████████████████| 5401/5401 [00:00<?, ?it/s]\n",
      "100%|█████████████████████████████████████████████████████████████████████████| 5401/5401 [00:00<00:00, 2650764.79it/s]\n",
      "100%|█████████████████████████████████████████████████████████████████████████| 5401/5401 [00:00<00:00, 2698443.82it/s]\n",
      "100%|██████████████████████████████████████████████████████████████████████████████████████| 5401/5401 [00:00<?, ?it/s]\n",
      "100%|█████████████████████████████████████████████████████████████████████████| 5401/5401 [00:00<00:00, 2010243.67it/s]\n",
      "100%|█████████████████████████████████████████████████████████████████████████| 5401/5401 [00:00<00:00, 1542624.17it/s]\n",
      "100%|█████████████████████████████████████████████████████████████████████████| 5401/5401 [00:00<00:00, 3600927.66it/s]\n",
      "100%|█████████████████████████████████████████████████████████████████████████| 5401/5401 [00:00<00:00, 2160350.55it/s]\n",
      "100%|██████████████████████████████████████████████████████████████████████████████████████| 5401/5401 [00:00<?, ?it/s]\n",
      "100%|██████████████████████████████████████████████████████████████████████████████████████| 5401/5401 [00:00<?, ?it/s]\n",
      "100%|██████████████████████████████████████████████████████████████████████████████████████| 5401/5401 [00:00<?, ?it/s]\n",
      "100%|█████████████████████████████████████████████████████████████████████████| 5401/5401 [00:00<00:00, 2704564.94it/s]\n",
      "100%|█████████████████████████████████████████████████████████████████████████| 5401/5401 [00:00<00:00, 2693951.23it/s]\n",
      "100%|█████████████████████████████████████████████████████████████████████████| 5401/5401 [00:00<00:00, 5377032.02it/s]\n",
      "100%|█████████████████████████████████████████████████████████████████████████| 5401/5401 [00:00<00:00, 1796750.94it/s]\n",
      "100%|█████████████████████████████████████████████████████████████████████████| 5401/5401 [00:00<00:00, 1543254.71it/s]\n",
      "100%|█████████████████████████████████████████████████████████████████████████| 5401/5401 [00:00<00:00, 2701662.00it/s]\n",
      "100%|█████████████████████████████████████████████████████████████████████████| 5401/5401 [00:00<00:00, 2699086.85it/s]\n",
      "100%|█████████████████████████████████████████████████████████████████████████| 5401/5401 [00:00<00:00, 1798177.16it/s]\n",
      "100%|█████████████████████████████████████████████████████████████████████████| 5401/5401 [00:00<00:00, 1315989.07it/s]\n",
      "100%|█████████████████████████████████████████████████████████████████████████| 5401/5401 [00:00<00:00, 2709417.04it/s]\n",
      "100%|██████████████████████████████████████████████████████████████████████████████████████| 5401/5401 [00:00<?, ?it/s]\n",
      "100%|██████████████████████████████████████████████████████████████████████████████████████| 5401/5401 [00:00<?, ?it/s]\n",
      "100%|█████████████████████████████████████████████████████████████████████████| 5401/5401 [00:00<00:00, 2741551.00it/s]\n",
      "100%|█████████████████████████████████████████████████████████████████████████| 5401/5401 [00:00<00:00, 2701017.75it/s]\n"
     ]
    },
    {
     "name": "stdout",
     "output_type": "stream",
     "text": [
      "Wall time: 1.67 s\n"
     ]
    }
   ],
   "source": [
    "%%time\n",
    "for epoch in range(30):\n",
    "    model_ug_cbow.train(utils.shuffle([x.words for x in tqdm(all_x_w2v)]), total_examples=len(all_x_w2v), epochs=1)\n",
    "    model_ug_cbow.alpha -= 0.002\n",
    "    model_ug_cbow.min_alpha = model_ug_cbow.alpha"
   ]
  },
  {
   "cell_type": "code",
   "execution_count": 86,
   "id": "e8857647",
   "metadata": {},
   "outputs": [
    {
     "name": "stderr",
     "output_type": "stream",
     "text": [
      "100%|██████████████████████████████████████████████████████████████████████████████████████| 5401/5401 [00:00<?, ?it/s]\n"
     ]
    }
   ],
   "source": [
    "model_ug_sg = Word2Vec(sg=1,  negative=5, window=2, min_count=2, workers=cores, alpha=0.065, min_alpha=0.065)\n",
    "model_ug_sg.build_vocab([x.words for x in tqdm(all_x_w2v)])"
   ]
  },
  {
   "cell_type": "code",
   "execution_count": 87,
   "id": "2356eed9",
   "metadata": {},
   "outputs": [
    {
     "name": "stderr",
     "output_type": "stream",
     "text": [
      "100%|██████████████████████████████████████████████████████████████████████████| 5401/5401 [00:00<00:00, 794606.47it/s]\n",
      "100%|█████████████████████████████████████████████████████████████████████████| 5401/5401 [00:00<00:00, 5612843.39it/s]\n",
      "100%|█████████████████████████████████████████████████████████████████████████| 5401/5401 [00:00<00:00, 2700373.81it/s]\n",
      "100%|██████████████████████████████████████████████████████████████████████████| 5401/5401 [00:00<00:00, 369556.37it/s]\n",
      "100%|██████████████████████████████████████████████████████████████████████████████████████| 5401/5401 [00:00<?, ?it/s]\n",
      "100%|██████████████████████████████████████████████████████████████████████████████████████| 5401/5401 [00:00<?, ?it/s]\n",
      "100%|█████████████████████████████████████████████████████████████████████████| 5401/5401 [00:00<00:00, 1282390.94it/s]\n",
      "100%|██████████████████████████████████████████████████████████████████████████| 5401/5401 [00:00<00:00, 631754.03it/s]\n",
      "100%|█████████████████████████████████████████████████████████████████████████| 5401/5401 [00:00<00:00, 3612988.18it/s]\n",
      "100%|█████████████████████████████████████████████████████████████████████████| 5401/5401 [00:00<00:00, 3598639.54it/s]\n",
      "100%|█████████████████████████████████████████████████████████████████████████| 5401/5401 [00:00<00:00, 3612412.04it/s]\n",
      "100%|█████████████████████████████████████████████████████████████████████████| 5401/5401 [00:00<00:00, 2700051.96it/s]\n",
      "100%|█████████████████████████████████████████████████████████████████████████| 5401/5401 [00:00<00:00, 3600355.36it/s]\n",
      "100%|█████████████████████████████████████████████████████████████████████████| 5401/5401 [00:00<00:00, 2701662.00it/s]\n",
      "100%|█████████████████████████████████████████████████████████████████████████| 5401/5401 [00:00<00:00, 3600355.36it/s]\n",
      "100%|█████████████████████████████████████████████████████████████████████████| 5401/5401 [00:00<00:00, 1349141.56it/s]\n",
      "100%|█████████████████████████████████████████████████████████████████████████| 5401/5401 [00:00<00:00, 2701017.75it/s]\n",
      "100%|█████████████████████████████████████████████████████████████████████████| 5401/5401 [00:00<00:00, 2709741.14it/s]\n",
      "100%|█████████████████████████████████████████████████████████████████████████| 5401/5401 [00:00<00:00, 2159938.59it/s]\n",
      "100%|█████████████████████████████████████████████████████████████████████████| 5401/5401 [00:00<00:00, 1350186.91it/s]\n",
      "100%|██████████████████████████████████████████████████████████████████████████████████████| 5401/5401 [00:00<?, ?it/s]\n",
      "100%|██████████████████████████████████████████████████████████████████████████████████████| 5401/5401 [00:00<?, ?it/s]\n",
      "100%|██████████████████████████████████████████████████████████████████████████████████████| 5401/5401 [00:00<?, ?it/s]\n",
      "100%|█████████████████████████████████████████████████████████████████████████| 5401/5401 [00:00<00:00, 2695233.30it/s]\n",
      "100%|██████████████████████████████████████████████████████████████████████████████████████| 5401/5401 [00:00<?, ?it/s]\n",
      "100%|█████████████████████████████████████████████████████████████████████████| 5401/5401 [00:00<00:00, 2701984.24it/s]\n",
      "100%|█████████████████████████████████████████████████████████████████████████| 5401/5401 [00:00<00:00, 2701339.84it/s]\n",
      "100%|█████████████████████████████████████████████████████████████████████████| 5401/5401 [00:00<00:00, 2706503.69it/s]\n",
      "100%|█████████████████████████████████████████████████████████████████████████| 5401/5401 [00:00<00:00, 2703273.97it/s]\n",
      "100%|██████████████████████████████████████████████████████████████████████████████████████| 5401/5401 [00:00<?, ?it/s]\n"
     ]
    },
    {
     "name": "stdout",
     "output_type": "stream",
     "text": [
      "Wall time: 2.06 s\n"
     ]
    }
   ],
   "source": [
    "%%time\n",
    "for epoch in range(30):\n",
    "    model_ug_sg.train(utils.shuffle([x.words for x in tqdm(all_x_w2v)]), total_examples=len(all_x_w2v), epochs=1)\n",
    "    model_ug_sg.alpha -= 0.002\n",
    "    model_ug_sg.min_alpha = model_ug_sg.alpha"
   ]
  },
  {
   "cell_type": "code",
   "execution_count": 88,
   "id": "bed9d6fd",
   "metadata": {},
   "outputs": [],
   "source": [
    "model_ug_cbow.save('w2v_model_ug_cbow.word2vec')\n",
    "model_ug_sg.save('w2v_model_ug_sg.word2vec')"
   ]
  },
  {
   "cell_type": "markdown",
   "id": "faa07eef",
   "metadata": {},
   "source": [
    "Let's load the Word2Vec models to extract word vectors from. "
   ]
  },
  {
   "cell_type": "code",
   "execution_count": 89,
   "id": "5349e577",
   "metadata": {},
   "outputs": [],
   "source": [
    "from gensim.models import KeyedVectors\n",
    "model_ug_cbow = KeyedVectors.load('w2v_model_ug_cbow.word2vec')\n",
    "model_ug_sg = KeyedVectors.load('w2v_model_ug_sg.word2vec')"
   ]
  },
  {
   "cell_type": "code",
   "execution_count": 90,
   "id": "68c75060",
   "metadata": {},
   "outputs": [],
   "source": [
    "from keras.preprocessing.text import Tokenizer\n",
    "from keras_preprocessing.sequence import pad_sequences\n",
    "tokenizer = Tokenizer(num_words=100000)\n",
    "tokenizer.fit_on_texts(x_train)\n",
    "sequences = tokenizer.texts_to_sequences(x_train)"
   ]
  },
  {
   "cell_type": "code",
   "execution_count": 91,
   "id": "f3c78965",
   "metadata": {},
   "outputs": [
    {
     "data": {
      "text/plain": [
       "6326"
      ]
     },
     "execution_count": 91,
     "metadata": {},
     "output_type": "execute_result"
    }
   ],
   "source": [
    "len(tokenizer.word_index)\n"
   ]
  },
  {
   "cell_type": "code",
   "execution_count": 92,
   "id": "b4e452b8",
   "metadata": {},
   "outputs": [
    {
     "name": "stdout",
     "output_type": "stream",
     "text": [
      "The lovely and enchanted nation of Nepal never disappoints, with its thick wildernesses, overcast mountain ridges, extraordinary untamed life, interesting societies and sparkling geography. The lakes, flickering like mirrors and mirroring …\n",
      "Giving this place a rating of 5/5\n",
      "\n",
      "The place is very peaceful due to restrictions on vehicle movements. The place …\n",
      "Very well managed and a great place carrying religious values\n",
      "It is one of the most important place of chitwan. It's tourism area of chitwan. Tourists are more visit chitwan national parks.\n",
      "Beautiful, rural and untouched corner of Nepal! Amazing local Tamang culture with lovely locals ready to race to invite you for a cup of tea. Definitely worth the travel\n"
     ]
    }
   ],
   "source": [
    "#first five entries of original data\n",
    "for x in x_train[:5]:\n",
    "    print (x)"
   ]
  },
  {
   "cell_type": "markdown",
   "id": "d6cf731d",
   "metadata": {},
   "source": [
    "And the same data prepared as sequential data as below\n"
   ]
  },
  {
   "cell_type": "code",
   "execution_count": 93,
   "id": "a28849b2",
   "metadata": {},
   "outputs": [
    {
     "data": {
      "text/plain": [
       "[[1,\n",
       "  145,\n",
       "  2,\n",
       "  2162,\n",
       "  1750,\n",
       "  4,\n",
       "  20,\n",
       "  299,\n",
       "  3055,\n",
       "  17,\n",
       "  61,\n",
       "  3056,\n",
       "  3057,\n",
       "  3058,\n",
       "  175,\n",
       "  2163,\n",
       "  1501,\n",
       "  2164,\n",
       "  96,\n",
       "  300,\n",
       "  3059,\n",
       "  2,\n",
       "  2165,\n",
       "  3060,\n",
       "  1,\n",
       "  525,\n",
       "  3061,\n",
       "  98,\n",
       "  1502,\n",
       "  2,\n",
       "  3062,\n",
       "  23],\n",
       " [1751,\n",
       "  14,\n",
       "  3,\n",
       "  7,\n",
       "  2166,\n",
       "  4,\n",
       "  410,\n",
       "  410,\n",
       "  1,\n",
       "  3,\n",
       "  6,\n",
       "  16,\n",
       "  50,\n",
       "  690,\n",
       "  5,\n",
       "  1752,\n",
       "  44,\n",
       "  910,\n",
       "  3063,\n",
       "  1,\n",
       "  3,\n",
       "  23],\n",
       " [16, 91, 350, 2, 7, 30, 3, 3064, 115, 720],\n",
       " [13,\n",
       "  6,\n",
       "  15,\n",
       "  4,\n",
       "  1,\n",
       "  38,\n",
       "  214,\n",
       "  3,\n",
       "  4,\n",
       "  139,\n",
       "  35,\n",
       "  313,\n",
       "  102,\n",
       "  4,\n",
       "  139,\n",
       "  148,\n",
       "  25,\n",
       "  82,\n",
       "  10,\n",
       "  139,\n",
       "  51,\n",
       "  597],\n",
       " [12,\n",
       "  3065,\n",
       "  2,\n",
       "  911,\n",
       "  1079,\n",
       "  4,\n",
       "  20,\n",
       "  29,\n",
       "  136,\n",
       "  1190,\n",
       "  117,\n",
       "  17,\n",
       "  145,\n",
       "  393,\n",
       "  1191,\n",
       "  5,\n",
       "  2167,\n",
       "  5,\n",
       "  3066,\n",
       "  9,\n",
       "  11,\n",
       "  7,\n",
       "  1310,\n",
       "  4,\n",
       "  576,\n",
       "  328,\n",
       "  140,\n",
       "  1,\n",
       "  472]]"
      ]
     },
     "execution_count": 93,
     "metadata": {},
     "output_type": "execute_result"
    }
   ],
   "source": [
    "\n",
    "sequences[:5]\n"
   ]
  },
  {
   "cell_type": "markdown",
   "id": "dfdb87f9",
   "metadata": {},
   "source": [
    "Each word is represented as a number, and we can see that the number of words in each sentence is matching the length of numbers in the \"sequences\"."
   ]
  },
  {
   "cell_type": "code",
   "execution_count": 94,
   "id": "7a1f954c",
   "metadata": {},
   "outputs": [],
   "source": [
    "length = []\n",
    "for x in x_train:\n",
    "    length.append(len(x.split()))"
   ]
  },
  {
   "cell_type": "code",
   "execution_count": 95,
   "id": "c29d02c5",
   "metadata": {},
   "outputs": [
    {
     "data": {
      "text/plain": [
       "70"
      ]
     },
     "execution_count": 95,
     "metadata": {},
     "output_type": "execute_result"
    }
   ],
   "source": [
    "max(length)\n"
   ]
  },
  {
   "cell_type": "code",
   "execution_count": 96,
   "id": "9133fcf6",
   "metadata": {},
   "outputs": [
    {
     "name": "stdout",
     "output_type": "stream",
     "text": [
      "Shape of data tensor: (5292, 45)\n"
     ]
    }
   ],
   "source": [
    "x_train_seq = pad_sequences(sequences, maxlen=45)\n",
    "print('Shape of data tensor:', x_train_seq.shape)"
   ]
  },
  {
   "cell_type": "code",
   "execution_count": 97,
   "id": "660fee94",
   "metadata": {},
   "outputs": [
    {
     "data": {
      "text/plain": [
       "array([[   0,    0,    0,    0,    0,    0,    0,    0,    0,    0,    0,\n",
       "           0,    0,    1,  145,    2, 2162, 1750,    4,   20,  299, 3055,\n",
       "          17,   61, 3056, 3057, 3058,  175, 2163, 1501, 2164,   96,  300,\n",
       "        3059,    2, 2165, 3060,    1,  525, 3061,   98, 1502,    2, 3062,\n",
       "          23],\n",
       "       [   0,    0,    0,    0,    0,    0,    0,    0,    0,    0,    0,\n",
       "           0,    0,    0,    0,    0,    0,    0,    0,    0,    0,    0,\n",
       "           0, 1751,   14,    3,    7, 2166,    4,  410,  410,    1,    3,\n",
       "           6,   16,   50,  690,    5, 1752,   44,  910, 3063,    1,    3,\n",
       "          23],\n",
       "       [   0,    0,    0,    0,    0,    0,    0,    0,    0,    0,    0,\n",
       "           0,    0,    0,    0,    0,    0,    0,    0,    0,    0,    0,\n",
       "           0,    0,    0,    0,    0,    0,    0,    0,    0,    0,    0,\n",
       "           0,    0,   16,   91,  350,    2,    7,   30,    3, 3064,  115,\n",
       "         720],\n",
       "       [   0,    0,    0,    0,    0,    0,    0,    0,    0,    0,    0,\n",
       "           0,    0,    0,    0,    0,    0,    0,    0,    0,    0,    0,\n",
       "           0,   13,    6,   15,    4,    1,   38,  214,    3,    4,  139,\n",
       "          35,  313,  102,    4,  139,  148,   25,   82,   10,  139,   51,\n",
       "         597],\n",
       "       [   0,    0,    0,    0,    0,    0,    0,    0,    0,    0,    0,\n",
       "           0,    0,    0,    0,    0,   12, 3065,    2,  911, 1079,    4,\n",
       "          20,   29,  136, 1190,  117,   17,  145,  393, 1191,    5, 2167,\n",
       "           5, 3066,    9,   11,    7, 1310,    4,  576,  328,  140,    1,\n",
       "         472]])"
      ]
     },
     "execution_count": 97,
     "metadata": {},
     "output_type": "execute_result"
    }
   ],
   "source": [
    "x_train_seq[:5]\n"
   ]
  },
  {
   "cell_type": "code",
   "execution_count": 98,
   "id": "1e2e831a",
   "metadata": {},
   "outputs": [],
   "source": [
    "sequences_val = tokenizer.texts_to_sequences(x_validation)\n",
    "x_val_seq = pad_sequences(sequences_val, maxlen=45)"
   ]
  },
  {
   "cell_type": "code",
   "execution_count": 99,
   "id": "d2874c80",
   "metadata": {},
   "outputs": [],
   "source": [
    "num_words = 100000\n",
    "embedding_matrix = np.zeros((num_words, 200))\n",
    "for word, i in tokenizer.word_index.items():\n",
    "    if i >= num_words:\n",
    "        continue\n",
    "    embedding_vector = embeddings_index.get(word)\n",
    "    if embedding_vector is not None:\n",
    "        embedding_matrix[i] = embedding_vector"
   ]
  },
  {
   "cell_type": "code",
   "execution_count": 100,
   "id": "e68faf9c",
   "metadata": {},
   "outputs": [
    {
     "data": {
      "text/plain": [
       "False"
      ]
     },
     "execution_count": 100,
     "metadata": {},
     "output_type": "execute_result"
    }
   ],
   "source": [
    "np.array_equal(embedding_matrix[6] ,embeddings_index.get('you'))\n"
   ]
  },
  {
   "cell_type": "code",
   "execution_count": 101,
   "id": "199877ee",
   "metadata": {},
   "outputs": [],
   "source": [
    "seed = 7\n",
    "\n",
    "from keras.models import Sequential\n",
    "from keras.layers import Dense, Dropout\n",
    "from keras.layers import Flatten\n",
    "from tensorflow.keras.layers import Embedding"
   ]
  },
  {
   "cell_type": "code",
   "execution_count": 102,
   "id": "ba2332c2",
   "metadata": {},
   "outputs": [
    {
     "name": "stdout",
     "output_type": "stream",
     "text": [
      "Epoch 1/5\n",
      "166/166 - 2s - loss: 0.6570 - accuracy: 0.9545 - val_loss: 0.6183 - val_accuracy: 0.9815 - 2s/epoch - 10ms/step\n",
      "Epoch 2/5\n",
      "166/166 - 1s - loss: 0.5903 - accuracy: 0.9601 - val_loss: 0.5529 - val_accuracy: 0.9815 - 1s/epoch - 8ms/step\n",
      "Epoch 3/5\n",
      "166/166 - 1s - loss: 0.5324 - accuracy: 0.9601 - val_loss: 0.4960 - val_accuracy: 0.9815 - 1s/epoch - 8ms/step\n",
      "Epoch 4/5\n",
      "166/166 - 1s - loss: 0.4823 - accuracy: 0.9601 - val_loss: 0.4465 - val_accuracy: 0.9815 - 1s/epoch - 8ms/step\n",
      "Epoch 5/5\n",
      "166/166 - 1s - loss: 0.4391 - accuracy: 0.9601 - val_loss: 0.4035 - val_accuracy: 0.9815 - 1s/epoch - 8ms/step\n"
     ]
    },
    {
     "data": {
      "text/plain": [
       "<keras.callbacks.History at 0x27c94844880>"
      ]
     },
     "execution_count": 102,
     "metadata": {},
     "output_type": "execute_result"
    }
   ],
   "source": [
    "model_ptw2v = Sequential()\n",
    "e = Embedding(100000, 200, weights=[embedding_matrix], input_length=45, trainable=False)\n",
    "model_ptw2v.add(e)\n",
    "model_ptw2v.add(Flatten())\n",
    "model_ptw2v.add(Dense(256, activation='relu'))\n",
    "model_ptw2v.add(Dense(1, activation='sigmoid'))\n",
    "model_ptw2v.compile(loss='binary_crossentropy', optimizer='adam', metrics=['accuracy'])\n",
    "model_ptw2v.fit(x_train_seq, y_train, validation_data=(x_val_seq, y_validation), epochs=5, batch_size=32, verbose=2)"
   ]
  },
  {
   "cell_type": "code",
   "execution_count": 103,
   "id": "36cf0b51",
   "metadata": {},
   "outputs": [
    {
     "name": "stdout",
     "output_type": "stream",
     "text": [
      "Epoch 1/5\n",
      "166/166 - 30s - loss: 0.0535 - accuracy: 0.9739 - val_loss: 0.0131 - val_accuracy: 1.0000 - 30s/epoch - 179ms/step\n",
      "Epoch 2/5\n",
      "166/166 - 29s - loss: 0.0266 - accuracy: 1.0000 - val_loss: 0.0122 - val_accuracy: 1.0000 - 29s/epoch - 174ms/step\n",
      "Epoch 3/5\n",
      "166/166 - 29s - loss: 0.0249 - accuracy: 1.0000 - val_loss: 0.0112 - val_accuracy: 1.0000 - 29s/epoch - 174ms/step\n",
      "Epoch 4/5\n",
      "166/166 - 29s - loss: 0.0232 - accuracy: 1.0000 - val_loss: 0.0104 - val_accuracy: 1.0000 - 29s/epoch - 174ms/step\n",
      "Epoch 5/5\n",
      "166/166 - 29s - loss: 0.0216 - accuracy: 1.0000 - val_loss: 0.0098 - val_accuracy: 1.0000 - 29s/epoch - 174ms/step\n"
     ]
    },
    {
     "data": {
      "text/plain": [
       "<keras.callbacks.History at 0x27c84c57250>"
      ]
     },
     "execution_count": 103,
     "metadata": {},
     "output_type": "execute_result"
    }
   ],
   "source": [
    "model_ptw2v = Sequential()\n",
    "e = Embedding(100000, 200, input_length=45)\n",
    "model_ptw2v.add(e)\n",
    "model_ptw2v.add(Flatten())\n",
    "model_ptw2v.add(Dense(256, activation='relu'))\n",
    "model_ptw2v.add(Dense(1, activation='sigmoid'))\n",
    "model_ptw2v.compile(loss='binary_crossentropy', optimizer='adam', metrics=['accuracy'])\n",
    "model_ptw2v.fit(x_train_seq, y_train, validation_data=(x_val_seq, y_validation), epochs=5, batch_size=32, verbose=2)"
   ]
  },
  {
   "cell_type": "code",
   "execution_count": 104,
   "id": "c42ab1f5",
   "metadata": {},
   "outputs": [
    {
     "name": "stdout",
     "output_type": "stream",
     "text": [
      "Epoch 1/5\n",
      "166/166 - 28s - loss: 0.6563 - accuracy: 0.9548 - val_loss: 0.6173 - val_accuracy: 0.9815 - 28s/epoch - 171ms/step\n",
      "Epoch 2/5\n",
      "166/166 - 28s - loss: 0.5893 - accuracy: 0.9601 - val_loss: 0.5519 - val_accuracy: 0.9815 - 28s/epoch - 167ms/step\n",
      "Epoch 3/5\n",
      "166/166 - 28s - loss: 0.5315 - accuracy: 0.9601 - val_loss: 0.4950 - val_accuracy: 0.9815 - 28s/epoch - 171ms/step\n",
      "Epoch 4/5\n",
      "166/166 - 28s - loss: 0.4815 - accuracy: 0.9601 - val_loss: 0.4456 - val_accuracy: 0.9815 - 28s/epoch - 166ms/step\n",
      "Epoch 5/5\n",
      "166/166 - 28s - loss: 0.4383 - accuracy: 0.9601 - val_loss: 0.4029 - val_accuracy: 0.9815 - 28s/epoch - 167ms/step\n"
     ]
    },
    {
     "data": {
      "text/plain": [
       "<keras.callbacks.History at 0x27c8579bfa0>"
      ]
     },
     "execution_count": 104,
     "metadata": {},
     "output_type": "execute_result"
    }
   ],
   "source": [
    "model_ptw2v = Sequential()\n",
    "e = Embedding(100000, 200, weights=[embedding_matrix], input_length=45, trainable=True)\n",
    "model_ptw2v.add(e)\n",
    "model_ptw2v.add(Flatten())\n",
    "model_ptw2v.add(Dense(256, activation='relu'))\n",
    "model_ptw2v.add(Dense(1, activation='sigmoid'))\n",
    "model_ptw2v.compile(loss='binary_crossentropy', optimizer='adam', metrics=['accuracy'])\n",
    "model_ptw2v.fit(x_train_seq, y_train, validation_data=(x_val_seq, y_validation), epochs=5, batch_size=32, verbose=2)"
   ]
  },
  {
   "cell_type": "markdown",
   "id": "c0930c3f",
   "metadata": {},
   "source": [
    "# Convolutional Neural Network"
   ]
  },
  {
   "cell_type": "code",
   "execution_count": 105,
   "id": "ce50ed47",
   "metadata": {},
   "outputs": [],
   "source": [
    "from keras.layers import Conv1D, GlobalMaxPooling1D\n"
   ]
  },
  {
   "cell_type": "code",
   "execution_count": 106,
   "id": "12050e7b",
   "metadata": {},
   "outputs": [
    {
     "name": "stdout",
     "output_type": "stream",
     "text": [
      "Model: \"sequential_11\"\n",
      "_________________________________________________________________\n",
      " Layer (type)                Output Shape              Param #   \n",
      "=================================================================\n",
      " embedding_12 (Embedding)    (None, 45, 200)           20000000  \n",
      "                                                                 \n",
      " conv1d_8 (Conv1D)           (None, 44, 100)           40100     \n",
      "                                                                 \n",
      "=================================================================\n",
      "Total params: 20,040,100\n",
      "Trainable params: 20,040,100\n",
      "Non-trainable params: 0\n",
      "_________________________________________________________________\n"
     ]
    }
   ],
   "source": [
    "structure_test = Sequential()\n",
    "e = Embedding(100000, 200, input_length=45)\n",
    "structure_test.add(e)\n",
    "structure_test.add(Conv1D(filters=100, kernel_size=2, padding='valid', activation='relu', strides=1))\n",
    "structure_test.summary()"
   ]
  },
  {
   "cell_type": "code",
   "execution_count": 107,
   "id": "26628c98",
   "metadata": {},
   "outputs": [
    {
     "name": "stdout",
     "output_type": "stream",
     "text": [
      "Model: \"sequential_12\"\n",
      "_________________________________________________________________\n",
      " Layer (type)                Output Shape              Param #   \n",
      "=================================================================\n",
      " embedding_13 (Embedding)    (None, 45, 200)           20000000  \n",
      "                                                                 \n",
      " conv1d_9 (Conv1D)           (None, 44, 100)           40100     \n",
      "                                                                 \n",
      " global_max_pooling1d_7 (Glo  (None, 100)              0         \n",
      " balMaxPooling1D)                                                \n",
      "                                                                 \n",
      "=================================================================\n",
      "Total params: 20,040,100\n",
      "Trainable params: 20,040,100\n",
      "Non-trainable params: 0\n",
      "_________________________________________________________________\n"
     ]
    }
   ],
   "source": [
    "structure_test = Sequential()\n",
    "e = Embedding(100000, 200, input_length=45)\n",
    "structure_test.add(e)\n",
    "structure_test.add(Conv1D(filters=100, kernel_size=2, padding='valid', activation='relu', strides=1))\n",
    "structure_test.add(GlobalMaxPooling1D())\n",
    "structure_test.summary()"
   ]
  },
  {
   "cell_type": "code",
   "execution_count": 108,
   "id": "e01f3433",
   "metadata": {},
   "outputs": [
    {
     "name": "stdout",
     "output_type": "stream",
     "text": [
      "Epoch 1/5\n",
      "166/166 - 1s - loss: 0.6568 - accuracy: 0.9545 - val_loss: 0.6181 - val_accuracy: 0.9815 - 1s/epoch - 8ms/step\n",
      "Epoch 2/5\n",
      "166/166 - 1s - loss: 0.5899 - accuracy: 0.9601 - val_loss: 0.5525 - val_accuracy: 0.9815 - 810ms/epoch - 5ms/step\n",
      "Epoch 3/5\n",
      "166/166 - 1s - loss: 0.5319 - accuracy: 0.9601 - val_loss: 0.4955 - val_accuracy: 0.9815 - 671ms/epoch - 4ms/step\n",
      "Epoch 4/5\n",
      "166/166 - 1s - loss: 0.4818 - accuracy: 0.9601 - val_loss: 0.4461 - val_accuracy: 0.9815 - 673ms/epoch - 4ms/step\n",
      "Epoch 5/5\n",
      "166/166 - 1s - loss: 0.4386 - accuracy: 0.9601 - val_loss: 0.4031 - val_accuracy: 0.9815 - 657ms/epoch - 4ms/step\n"
     ]
    },
    {
     "data": {
      "text/plain": [
       "<keras.callbacks.History at 0x27c86171e20>"
      ]
     },
     "execution_count": 108,
     "metadata": {},
     "output_type": "execute_result"
    }
   ],
   "source": [
    "model_cnn_01 = Sequential()\n",
    "e = Embedding(100000, 200, weights=[embedding_matrix], input_length=45, trainable=False)\n",
    "model_cnn_01.add(e)\n",
    "model_cnn_01.add(Conv1D(filters=100, kernel_size=2, padding='valid', activation='relu', strides=1))\n",
    "model_cnn_01.add(GlobalMaxPooling1D())\n",
    "model_cnn_01.add(Dense(256, activation='relu'))\n",
    "model_cnn_01.add(Dense(1, activation='sigmoid'))\n",
    "model_cnn_01.compile(loss='binary_crossentropy', optimizer='adam', metrics=['accuracy'])\n",
    "model_cnn_01.fit(x_train_seq, y_train, validation_data=(x_val_seq, y_validation), epochs=5, batch_size=32, verbose=2)"
   ]
  },
  {
   "cell_type": "code",
   "execution_count": 109,
   "id": "8d648347",
   "metadata": {},
   "outputs": [
    {
     "name": "stdout",
     "output_type": "stream",
     "text": [
      "Epoch 1/5\n",
      "166/166 - 29s - loss: 0.0743 - accuracy: 0.9743 - val_loss: 0.0410 - val_accuracy: 0.9815 - 29s/epoch - 172ms/step\n",
      "Epoch 2/5\n",
      "166/166 - 28s - loss: 1.2319e-04 - accuracy: 1.0000 - val_loss: 0.0566 - val_accuracy: 0.9815 - 28s/epoch - 166ms/step\n",
      "Epoch 3/5\n",
      "166/166 - 27s - loss: 2.5551e-05 - accuracy: 1.0000 - val_loss: 0.0655 - val_accuracy: 0.9815 - 27s/epoch - 166ms/step\n",
      "Epoch 4/5\n",
      "166/166 - 28s - loss: 1.2332e-05 - accuracy: 1.0000 - val_loss: 0.0706 - val_accuracy: 0.9815 - 28s/epoch - 169ms/step\n",
      "Epoch 5/5\n",
      "166/166 - 29s - loss: 7.3691e-06 - accuracy: 1.0000 - val_loss: 0.0749 - val_accuracy: 0.9815 - 29s/epoch - 173ms/step\n"
     ]
    },
    {
     "data": {
      "text/plain": [
       "<keras.callbacks.History at 0x27c8632c400>"
      ]
     },
     "execution_count": 109,
     "metadata": {},
     "output_type": "execute_result"
    }
   ],
   "source": [
    "model_cnn_02 = Sequential()\n",
    "e = Embedding(100000, 200, input_length=45)\n",
    "model_cnn_02.add(e)\n",
    "model_cnn_02.add(Conv1D(filters=100, kernel_size=2, padding='valid', activation='relu', strides=1))\n",
    "model_cnn_02.add(GlobalMaxPooling1D())\n",
    "model_cnn_02.add(Dense(256, activation='relu'))\n",
    "model_cnn_02.add(Dense(1, activation='sigmoid'))\n",
    "model_cnn_02.compile(loss='binary_crossentropy', optimizer='adam', metrics=['accuracy'])\n",
    "model_cnn_02.fit(x_train_seq, y_train, validation_data=(x_val_seq, y_validation), epochs=5, batch_size=32, verbose=2)"
   ]
  },
  {
   "cell_type": "code",
   "execution_count": 110,
   "id": "c5ea66bb",
   "metadata": {},
   "outputs": [
    {
     "name": "stdout",
     "output_type": "stream",
     "text": [
      "Epoch 1/5\n",
      "166/166 - 30s - loss: 0.6570 - accuracy: 0.9552 - val_loss: 0.6182 - val_accuracy: 0.9815 - 30s/epoch - 179ms/step\n",
      "Epoch 2/5\n",
      "166/166 - 32s - loss: 0.5903 - accuracy: 0.9601 - val_loss: 0.5529 - val_accuracy: 0.9815 - 32s/epoch - 193ms/step\n",
      "Epoch 3/5\n",
      "166/166 - 32s - loss: 0.5324 - accuracy: 0.9601 - val_loss: 0.4959 - val_accuracy: 0.9815 - 32s/epoch - 190ms/step\n",
      "Epoch 4/5\n",
      "166/166 - 35s - loss: 0.4823 - accuracy: 0.9601 - val_loss: 0.4464 - val_accuracy: 0.9815 - 35s/epoch - 211ms/step\n",
      "Epoch 5/5\n",
      "166/166 - 34s - loss: 0.4390 - accuracy: 0.9601 - val_loss: 0.4034 - val_accuracy: 0.9815 - 34s/epoch - 204ms/step\n"
     ]
    },
    {
     "data": {
      "text/plain": [
       "<keras.callbacks.History at 0x27c8645e3a0>"
      ]
     },
     "execution_count": 110,
     "metadata": {},
     "output_type": "execute_result"
    }
   ],
   "source": [
    "model_cnn_03 = Sequential()\n",
    "e = Embedding(100000, 200, weights=[embedding_matrix], input_length=45, trainable=True)\n",
    "model_cnn_03.add(e)\n",
    "model_cnn_03.add(Conv1D(filters=100, kernel_size=2, padding='valid', activation='relu', strides=1))\n",
    "model_cnn_03.add(GlobalMaxPooling1D())\n",
    "model_cnn_03.add(Dense(256, activation='relu'))\n",
    "model_cnn_03.add(Dense(1, activation='sigmoid'))\n",
    "model_cnn_03.compile(loss='binary_crossentropy', optimizer='adam', metrics=['accuracy'])\n",
    "model_cnn_03.fit(x_train_seq, y_train, validation_data=(x_val_seq, y_validation), epochs=5, batch_size=32, verbose=2)"
   ]
  },
  {
   "cell_type": "code",
   "execution_count": null,
   "id": "6883e083",
   "metadata": {},
   "outputs": [],
   "source": []
  },
  {
   "cell_type": "code",
   "execution_count": null,
   "id": "77a2778b",
   "metadata": {},
   "outputs": [],
   "source": []
  }
 ],
 "metadata": {
  "kernelspec": {
   "display_name": "Python 3 (ipykernel)",
   "language": "python",
   "name": "python3"
  },
  "language_info": {
   "codemirror_mode": {
    "name": "ipython",
    "version": 3
   },
   "file_extension": ".py",
   "mimetype": "text/x-python",
   "name": "python",
   "nbconvert_exporter": "python",
   "pygments_lexer": "ipython3",
   "version": "3.9.7"
  }
 },
 "nbformat": 4,
 "nbformat_minor": 5
}
